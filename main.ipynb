{
 "cells": [
  {
   "cell_type": "code",
   "execution_count": 1,
   "id": "7d811efb",
   "metadata": {},
   "outputs": [],
   "source": [
    "from torch.utils.data import Dataset\n",
    "import pandas as pd\n",
    "import torchaudio"
   ]
  },
  {
   "cell_type": "code",
   "execution_count": 2,
   "id": "171519ef",
   "metadata": {},
   "outputs": [],
   "source": [
    "class SoundDataset(Dataset):\n",
    "    def __init__(self,audio_dir):\n",
    "        self.df = pd.read_csv('UrbanSound8K/metadata/UrbanSound8K.csv')\n",
    "        self.audio_dir = audio_dir\n",
    "\n",
    "    def __len__(self):\n",
    "        return len(self.df)\n",
    "\n",
    "\n",
    "    def _get_path(self,index):\n",
    "        sample = self.df.iloc[index]\n",
    "        path = self.audio_dir + f'fold{sample['fold']}/' + sample['slice_file_name'] \n",
    "        print ( path)\n",
    "        return path\n",
    "\n",
    "    def _get_label(self,index):\n",
    "        sample = self.df.iloc[index]\n",
    "        return sample['classID']\n",
    "\n",
    "\n",
    "    def __getitem__(self, index):\n",
    "        audio_sample_path = self._get_path(index)\n",
    "        label = self._get_label(index)\n",
    "        signal , sr = torchaudio.load(audio_sample_path,format=\"wav\")\n",
    "        \n",
    "        return signal , label"
   ]
  },
  {
   "cell_type": "code",
   "execution_count": 3,
   "id": "6167d276",
   "metadata": {},
   "outputs": [],
   "source": [
    "AUDIO_DIR = '/home/furkan/AudioDeepLearning/UrbanSound8K/audio/'\n",
    "\n",
    "dataset = SoundDataset(AUDIO_DIR)"
   ]
  },
  {
   "cell_type": "code",
   "execution_count": 4,
   "id": "46a0e60e",
   "metadata": {},
   "outputs": [
    {
     "data": {
      "text/plain": [
       "8732"
      ]
     },
     "execution_count": 4,
     "metadata": {},
     "output_type": "execute_result"
    }
   ],
   "source": [
    "len(dataset)"
   ]
  },
  {
   "cell_type": "code",
   "execution_count": 7,
   "id": "212cc18f",
   "metadata": {},
   "outputs": [
    {
     "name": "stdout",
     "output_type": "stream",
     "text": [
      "/home/furkan/AudioDeepLearning/UrbanSound8K/audio/fold5/100032-3-0-0.wav\n"
     ]
    }
   ],
   "source": [
    "signal , label = dataset[0]"
   ]
  },
  {
   "cell_type": "code",
   "execution_count": null,
   "id": "2464dc6b",
   "metadata": {},
   "outputs": [],
   "source": []
  }
 ],
 "metadata": {
  "kernelspec": {
   "display_name": ".venv",
   "language": "python",
   "name": "python3"
  },
  "language_info": {
   "codemirror_mode": {
    "name": "ipython",
    "version": 3
   },
   "file_extension": ".py",
   "mimetype": "text/x-python",
   "name": "python",
   "nbconvert_exporter": "python",
   "pygments_lexer": "ipython3",
   "version": "3.12.10"
  }
 },
 "nbformat": 4,
 "nbformat_minor": 5
}
